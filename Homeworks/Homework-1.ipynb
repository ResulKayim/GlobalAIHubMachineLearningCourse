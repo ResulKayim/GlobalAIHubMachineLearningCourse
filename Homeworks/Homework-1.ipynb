{
 "cells": [
  {
   "cell_type": "markdown",
   "metadata": {},
   "source": [
    "# Q_1 How would you define Machine Learning?"
   ]
  },
  {
   "cell_type": "markdown",
   "metadata": {},
   "source": [
    "Makina öğrenimi yapay zekanın bir alt disiplinidir. Makina öğrenmesi temelinde istatistik ve matematiksel işlemlere dayanmaktır ve bu işlemler aracılığıyla veriler üzerinden çıkarımlar yaparak, bu çıkarımlar vasıtasıyla yeni gelecek olan örnekler üzerinde tahminlerde bulunan sistemlerin bilgisayarlar ile modellenmesidir. "
   ]
  },
  {
   "cell_type": "markdown",
   "metadata": {},
   "source": [
    "# Q_2 What are the differences between Supervised and Unsupervised Learning? Specify example 3 algorithms for each of these."
   ]
  },
  {
   "cell_type": "markdown",
   "metadata": {},
   "source": [
    "Supervised(Gözetimli) öğrenme her eğitim örneği için en azından bir tane etiket bulunduran veriler üzerinde gerekli çıkarımları yapar ve bunu yeni durumlar için kullanarak bir çıktı verir.Örnek olarak, belirli kişilik özelliklerine göre cinsiyet tahmini yapmak istiyoruz ve elimizde kadın yada erkek olduğunu bildiğimiz kişilerin belirlediğimiz özellikleri var. Bu örnekleri kullanarak oluşturacağımız modelimiz eğitebiliriz ve sonuç olarak parametlerin ağırlıklarını öğrenen modelimiz yeni örnekler için bir takım tahminlerde bulunabilir. Supervised öğrenmeye K-NN, SVM ve Random Forest algoritmalarını verebiliriz.\n",
    "\n",
    "Unsupervised(Gözetimsiz) öğrenme veri setimizin herhangi bir etikete sahip olmasını gerektirmeden, herhangi bir giriş-çıkış, sebep-sonuç ilişkisi aramadan veri örneklerinin birbirine olan uzaklıklarını, komşuluk ilişkilerini ve yoğunluklarını kullanarak veriyle ilgili çıkarımlar yapılmasını sağlar.Örnek olarak, elimizde ölçüleri verilmiş olan kazak örnekleri olduğunu fakat hangi beden olduklarının kesin olarak bilemediğimizi varsayalım. Bu durumda bir unsupervised öğrenme algoritması kullanarak örnekler arasındaki benzerlikler göz önünde bulundurularak istenilen kadar sınıfa ayırt edilebilir ve kazaklarımızın bedenleri belirlenmiş olur.Unsupervised öğrenmeye örnek olarak K-Means, APriori, Eclat algoritmaları verilebilir."
   ]
  },
  {
   "cell_type": "markdown",
   "metadata": {},
   "source": [
    "# Q_3 What are the test and validation set, and why would you want to use them?"
   ]
  },
  {
   "cell_type": "markdown",
   "metadata": {},
   "source": [
    "Doğrulama veri kümesi, modelimizin hiper parametrelerini ayarlarken model becerisine ilişkin bir tahmin vermek için kullanılan, modelimizin eğitiminden saklanan verilerin bir örneğidir. \n",
    "\n",
    "Test kümesi eğitim veri setinden belirli çıkarımları yapan nihai modelin tarafsız bir değerlendirmesini sağlamak için kullanılan daha önceden modelin karşılaşmadığı veri kümesidir.\n",
    "\n",
    "Hiper parametreleri ayarlama aşamasında eğer test kümesini kullanacak olursak son olarak elde edeceğimiz başarı modelimizin mutlak başarı olmayacaktır çünkü önceden görmediği örnekler kullanılmamış olur test aşamasıda. Fakar eğerki bir validation kümesini kullanırsak bu gibi şeyler için test aşamasında daha önceden modelimizin hiçbir şekilde görmemiş olduğu veri kümesiyle testi gerçekleşecek ve nihai sonuç bizim modelimizin gerçek başarısını gösterecektir."
   ]
  },
  {
   "cell_type": "markdown",
   "metadata": {},
   "source": [
    "# Q_4 What are the main preprocessing steps? Explain them in detail. Why we need to prepare our data?"
   ]
  },
  {
   "cell_type": "markdown",
   "metadata": {},
   "source": [
    "Önişleme aşamasında, öncelikli olarak eksik verilere bakmamız gerekiyor çünkü sonrasında yapacağımız bütün aşamalarda bize sorun çıkarabilir. Eksik verilerle uğraşırken eğer yapabiliyorsak doğru bir şekilde veriler doldurulabilir çeşitli teknikler kullanılarak veya eğer  bu mümkün değilde bu örnekleri veri setimizden temizlememiz gerekiyor.\n",
    "\n",
    "İkinci olarak, veri kümemizdeki aykırı örnekleri(noisy data) temizlememiz gerekiyor çünkü bu örnekler normaldeki durumların dışında örnekler olduğu için modelimizin çalışmasını kötü yönde etkileyecektir.\n",
    "\n",
    "Sonrasında, verilerimizden gereksiz bilgileri temizlemeliyiz mesela isim, kimlik numarası gibi bir ayrıcalık belirtmeyecen bilgiler.\n",
    "\n",
    "Kategorik verilerimizi nominal ise farklı örnek sayısı kadar sütuna ayırıp düzenlememiz lazım veya eğer kategorik verimiz ordinal ise {1,2,3...} gibi değerler ile yer değiştirmeliyiz.\n",
    "\n",
    "Veri setimizi eğitim, validasyon ve test şeklinde alt kümelere ayırmalıyızki hem eğitimimizi yapabilelim hem hiper parametrelerimiz ayarlarken ayrı bir setimiz olsun hemde son olarak modelimizin başarısını ölçmek istediğimizde tarafsız bir veri setimiz olsun.\n",
    "\n",
    "Verimizi özellik ölçekleme (feature scaling) aşamasıdan geçirmemiz gerekiyor. Çünkü verimizin içerinde bulunan parametrelerin birbiriyle benzer dağılım içerinde olması modelimizin hem başarısını artıracaktır hem de modelimizin eğitim aşamasında eğitim hızını artıracaktır."
   ]
  },
  {
   "cell_type": "markdown",
   "metadata": {},
   "source": [
    "# Q_5How you can explore and analyse countionus and discrete variables?"
   ]
  },
  {
   "cell_type": "code",
   "execution_count": null,
   "metadata": {},
   "outputs": [],
   "source": []
  }
 ],
 "metadata": {
  "kernelspec": {
   "display_name": "Python 3",
   "language": "python",
   "name": "python3"
  },
  "language_info": {
   "codemirror_mode": {
    "name": "ipython",
    "version": 3
   },
   "file_extension": ".py",
   "mimetype": "text/x-python",
   "name": "python",
   "nbconvert_exporter": "python",
   "pygments_lexer": "ipython3",
   "version": "3.8.3"
  }
 },
 "nbformat": 4,
 "nbformat_minor": 4
}
